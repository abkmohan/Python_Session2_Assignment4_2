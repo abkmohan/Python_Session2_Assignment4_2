{
 "cells": [
  {
   "cell_type": "code",
   "execution_count": 31,
   "metadata": {},
   "outputs": [
    {
     "name": "stdout",
     "output_type": "stream",
     "text": [
      "Problem Statement 1: Lengths of each element in the list\n",
      "--------------------------------------------------------\n",
      "Lengths of the List ['Love','Python','Programming'] are -  [4, 6, 11]\n",
      "\n",
      "Problem Statement 2: Returns whether parameter is vowel or not\n",
      "--------------------------------------------------------------\n",
      "A is vowel:  True\n",
      "Z is vowel:  False\n",
      "1 is vowel:  False\n",
      "I is vowel:  True\n"
     ]
    }
   ],
   "source": [
    "#Course: Data Science Masters\n",
    "#Title: Python - Assignment 4.2\n",
    "#Problem Statement: \n",
    "#    1. Write function that maps list of words into a list of integers representing the lengths of the corresponding words.\n",
    "#    2. Write function which takes a character (i.e. a string of length 1) and returns True if it is a vowel, False otherwise.\n",
    "#Tool: Jupyter notebook \n",
    "#Author: Krishna A\n",
    "#Date: 19-2-2018 (DD/MM/YYYY)\n",
    "\n",
    "class MyClass:\n",
    "    def __init__(self): #init stands for initialize - equivalent of constructor\n",
    "        return\n",
    "        \n",
    "    def getLengthList(self,aList):\n",
    "        return list(map(lambda x:len(x),aList))\n",
    "    \n",
    "    def isVowel(self,sStr):\n",
    "        try:\n",
    "            self.sInstanceStr = sStr.lower()\n",
    "            if(len(self.sInstanceStr)!=1):\n",
    "                raise isVowel()\n",
    "            else:\n",
    "                if(self.sInstanceStr in ['a','e','i','o','u']):\n",
    "                    return True\n",
    "            return False\n",
    "        except:    #Exception Handling\n",
    "            print(\"Length of the parameter should be one\")\n",
    "            \n",
    "oObject = MyClass()\n",
    "print(\"Problem Statement 1: Lengths of each element in the list\\n--------------------------------------------------------\")\n",
    "print(\"Lengths of the List ['Love','Python','Programming'] are - \", oObject.getLengthList([\"Love\",\"Python\",\"Programming\"])) \n",
    "\n",
    "print(\"\\nProblem Statement 2: Returns whether parameter is vowel or not\\n--------------------------------------------------------------\")\n",
    "print(\"A is vowel: \", oObject.isVowel('A'))\n",
    "print(\"Z is vowel: \", oObject.isVowel('Z'))\n",
    "print(\"1 is vowel: \", oObject.isVowel('1'))\n",
    "print(\"I is vowel: \", oObject.isVowel('I'))"
   ]
  },
  {
   "cell_type": "code",
   "execution_count": null,
   "metadata": {
    "collapsed": true
   },
   "outputs": [],
   "source": []
  }
 ],
 "metadata": {
  "kernelspec": {
   "display_name": "Python 3",
   "language": "python",
   "name": "python3"
  },
  "language_info": {
   "codemirror_mode": {
    "name": "ipython",
    "version": 3
   },
   "file_extension": ".py",
   "mimetype": "text/x-python",
   "name": "python",
   "nbconvert_exporter": "python",
   "pygments_lexer": "ipython3",
   "version": "3.6.3"
  }
 },
 "nbformat": 4,
 "nbformat_minor": 2
}
